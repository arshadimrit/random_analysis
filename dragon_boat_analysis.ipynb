{
 "cells": [
  {
   "cell_type": "code",
   "execution_count": 1,
   "id": "ef657abf",
   "metadata": {},
   "outputs": [],
   "source": [
    "import pandas as pd\n",
    "import numpy as np\n",
    "import matplotlib.pyplot as plt\n",
    "import seaborn as sns\n",
    "\n",
    "from scipy.stats import pearsonr\n"
   ]
  },
  {
   "cell_type": "markdown",
   "id": "b605bb02",
   "metadata": {},
   "source": [
    "# Load Data"
   ]
  },
  {
   "cell_type": "code",
   "execution_count": 2,
   "id": "d4f07108",
   "metadata": {},
   "outputs": [
    {
     "data": {
      "text/html": [
       "<div>\n",
       "<style scoped>\n",
       "    .dataframe tbody tr th:only-of-type {\n",
       "        vertical-align: middle;\n",
       "    }\n",
       "\n",
       "    .dataframe tbody tr th {\n",
       "        vertical-align: top;\n",
       "    }\n",
       "\n",
       "    .dataframe thead th {\n",
       "        text-align: right;\n",
       "    }\n",
       "</style>\n",
       "<table border=\"1\" class=\"dataframe\">\n",
       "  <thead>\n",
       "    <tr style=\"text-align: right;\">\n",
       "      <th></th>\n",
       "      <th>gender</th>\n",
       "      <th>weight</th>\n",
       "      <th>paddle_side</th>\n",
       "      <th>oc_330</th>\n",
       "      <th>oc_150</th>\n",
       "      <th>2min_perg</th>\n",
       "      <th>oc_330_sec</th>\n",
       "      <th>oc_150_sec</th>\n",
       "    </tr>\n",
       "  </thead>\n",
       "  <tbody>\n",
       "    <tr>\n",
       "      <th>0</th>\n",
       "      <td>Male</td>\n",
       "      <td>191.8</td>\n",
       "      <td>left</td>\n",
       "      <td>0 days 00:01:45.200000</td>\n",
       "      <td>0 days 00:00:43.900000</td>\n",
       "      <td>474.3</td>\n",
       "      <td>105.2</td>\n",
       "      <td>43.9</td>\n",
       "    </tr>\n",
       "    <tr>\n",
       "      <th>1</th>\n",
       "      <td>male</td>\n",
       "      <td>181.2</td>\n",
       "      <td>left</td>\n",
       "      <td>0 days 00:01:45.600000</td>\n",
       "      <td>0 days 00:00:45.800000</td>\n",
       "      <td>508.3</td>\n",
       "      <td>105.6</td>\n",
       "      <td>45.8</td>\n",
       "    </tr>\n",
       "    <tr>\n",
       "      <th>2</th>\n",
       "      <td>Male</td>\n",
       "      <td>189.6</td>\n",
       "      <td>left</td>\n",
       "      <td>0 days 00:01:49.400000</td>\n",
       "      <td>0 days 00:00:43</td>\n",
       "      <td>469.0</td>\n",
       "      <td>109.4</td>\n",
       "      <td>43.0</td>\n",
       "    </tr>\n",
       "    <tr>\n",
       "      <th>3</th>\n",
       "      <td>Male</td>\n",
       "      <td>170.2</td>\n",
       "      <td>left</td>\n",
       "      <td>0 days 00:01:49.800000</td>\n",
       "      <td>0 days 00:00:46.800000</td>\n",
       "      <td>465.1</td>\n",
       "      <td>109.8</td>\n",
       "      <td>46.8</td>\n",
       "    </tr>\n",
       "    <tr>\n",
       "      <th>4</th>\n",
       "      <td>Male</td>\n",
       "      <td>188.2</td>\n",
       "      <td>left</td>\n",
       "      <td>0 days 00:01:52.600000</td>\n",
       "      <td>0 days 00:00:48.400000</td>\n",
       "      <td>500.1</td>\n",
       "      <td>112.6</td>\n",
       "      <td>48.4</td>\n",
       "    </tr>\n",
       "  </tbody>\n",
       "</table>\n",
       "</div>"
      ],
      "text/plain": [
       "  gender  weight paddle_side                 oc_330                 oc_150  \\\n",
       "0   Male   191.8        left 0 days 00:01:45.200000 0 days 00:00:43.900000   \n",
       "1   male   181.2        left 0 days 00:01:45.600000 0 days 00:00:45.800000   \n",
       "2   Male   189.6        left 0 days 00:01:49.400000        0 days 00:00:43   \n",
       "3   Male   170.2        left 0 days 00:01:49.800000 0 days 00:00:46.800000   \n",
       "4   Male   188.2        left 0 days 00:01:52.600000 0 days 00:00:48.400000   \n",
       "\n",
       "   2min_perg  oc_330_sec  oc_150_sec  \n",
       "0      474.3       105.2        43.9  \n",
       "1      508.3       105.6        45.8  \n",
       "2      469.0       109.4        43.0  \n",
       "3      465.1       109.8        46.8  \n",
       "4      500.1       112.6        48.4  "
      ]
     },
     "metadata": {},
     "output_type": "display_data"
    }
   ],
   "source": [
    "df = pd.read_csv('/Users/ImritM/Downloads/2024_u24_db_males_fall_camp.csv')\n",
    "df['Paddle Side'] = df['Paddle Side'].replace({'Paddler Left': 'left', 'Paddler Right': 'right'})\n",
    "df.drop(columns = df.columns[df.columns.str.contains('start|finish', case=False)], inplace = True)\n",
    "\n",
    "df.columns = ['dob', 'name', 'gender', 'weight', 'paddle_side', 'oc_330', 'oc_150', '2min_perg']\n",
    "df.sort_values(by = ['paddle_side', 'oc_330'], inplace = True)\n",
    "\n",
    "df.drop(columns = ['dob', 'name'], inplace = True) #Don't want some people to be identified whoops\n",
    "\n",
    "df['oc_330'] = pd.to_timedelta(df['oc_330'].astype(str).apply(lambda x: '0:' + x))\n",
    "df['oc_150'] = pd.to_timedelta(df['oc_150'].astype(str).apply(lambda x: '0:' + x))\n",
    "\n",
    "df['oc_330_sec'] = df['oc_330'].dt.total_seconds()\n",
    "df['oc_150_sec'] = df['oc_150'].dt.total_seconds()\n",
    "\n",
    "display(df.head())"
   ]
  },
  {
   "cell_type": "markdown",
   "id": "1d260a21",
   "metadata": {},
   "source": [
    "# Some Numbers"
   ]
  },
  {
   "cell_type": "code",
   "execution_count": 3,
   "id": "45fb7cbb",
   "metadata": {},
   "outputs": [
    {
     "name": "stdout",
     "output_type": "stream",
     "text": [
      "We have:\n",
      "- 31 left side guys \n",
      "- 26 right side guys\n",
      "-------------------------\n",
      "For the left sides, the average are:\n",
      "weight                      177.264516\n",
      "oc_330       0 days 00:02:00.290322580\n",
      "oc_150       0 days 00:00:49.406451612\n",
      "2min_perg                   452.873333\n",
      "dtype: object\n",
      "-------------------------\n",
      "For the right sides, the average are:\n",
      "weight                      178.846154\n",
      "oc_330       0 days 00:02:02.576923076\n",
      "oc_150       0 days 00:00:50.369230769\n",
      "2min_perg                       451.12\n",
      "dtype: object\n"
     ]
    }
   ],
   "source": [
    "print(f'''We have:\n",
    "- {df['paddle_side'].value_counts()['left']} left side guys \n",
    "- {df['paddle_side'].value_counts()['right']} right side guys''')\n",
    "print('-------------------------')\n",
    "\n",
    "print('For the left sides, the average are:')\n",
    "print(df.loc[df['paddle_side'] == 'left'][['weight', 'oc_330', 'oc_150', '2min_perg']].mean())\n",
    "print('-------------------------')\n",
    "\n",
    "print('For the right sides, the average are:')\n",
    "print(df.loc[df['paddle_side'] == 'right'][['weight', 'oc_330', 'oc_150', '2min_perg']].mean())"
   ]
  },
  {
   "cell_type": "markdown",
   "id": "fcd6f85b",
   "metadata": {},
   "source": [
    "## Correlations"
   ]
  },
  {
   "cell_type": "code",
   "execution_count": 4,
   "id": "676d4a7e",
   "metadata": {},
   "outputs": [
    {
     "data": {
      "image/png": "[encoded data removed]",
      "text/plain": [
       "<Figure size 640x480 with 2 Axes>"
      ]
     },
     "metadata": {},
     "output_type": "display_data"
    }
   ],
   "source": [
    "corr = df[['2min_perg', 'oc_330_sec', 'oc_150_sec']].corr()\n",
    "\n",
    "# plt.figure(figsize=(8, 6))\n",
    "sns.heatmap(corr, annot=True, cmap='coolwarm', vmin=-1, vmax=1, center=0)\n",
    "plt.title('Correlation Matrix')\n",
    "plt.show()"
   ]
  },
  {
   "cell_type": "markdown",
   "id": "b65c0827",
   "metadata": {},
   "source": [
    "#### Quick check to see if correlations are significant"
   ]
  },
  {
   "cell_type": "code",
   "execution_count": 5,
   "id": "66021ff7",
   "metadata": {},
   "outputs": [
    {
     "data": {
      "text/html": [
       "<div>\n",
       "<style scoped>\n",
       "    .dataframe tbody tr th:only-of-type {\n",
       "        vertical-align: middle;\n",
       "    }\n",
       "\n",
       "    .dataframe tbody tr th {\n",
       "        vertical-align: top;\n",
       "    }\n",
       "\n",
       "    .dataframe thead th {\n",
       "        text-align: right;\n",
       "    }\n",
       "</style>\n",
       "<table border=\"1\" class=\"dataframe\">\n",
       "  <thead>\n",
       "    <tr style=\"text-align: right;\">\n",
       "      <th></th>\n",
       "      <th>2min_perg</th>\n",
       "      <th>oc_330_sec</th>\n",
       "      <th>oc_150_sec</th>\n",
       "    </tr>\n",
       "  </thead>\n",
       "  <tbody>\n",
       "    <tr>\n",
       "      <th>2min_perg</th>\n",
       "      <td>0.000000e+00</td>\n",
       "      <td>2.758244e-10</td>\n",
       "      <td>9.889618e-07</td>\n",
       "    </tr>\n",
       "    <tr>\n",
       "      <th>oc_330_sec</th>\n",
       "      <td>2.758244e-10</td>\n",
       "      <td>0.000000e+00</td>\n",
       "      <td>4.795945e-18</td>\n",
       "    </tr>\n",
       "    <tr>\n",
       "      <th>oc_150_sec</th>\n",
       "      <td>9.889618e-07</td>\n",
       "      <td>4.795945e-18</td>\n",
       "      <td>0.000000e+00</td>\n",
       "    </tr>\n",
       "  </tbody>\n",
       "</table>\n",
       "</div>"
      ],
      "text/plain": [
       "               2min_perg    oc_330_sec    oc_150_sec\n",
       "2min_perg   0.000000e+00  2.758244e-10  9.889618e-07\n",
       "oc_330_sec  2.758244e-10  0.000000e+00  4.795945e-18\n",
       "oc_150_sec  9.889618e-07  4.795945e-18  0.000000e+00"
      ]
     },
     "execution_count": 5,
     "metadata": {},
     "output_type": "execute_result"
    }
   ],
   "source": [
    "pvalues = (df[['2min_perg', 'oc_330_sec', 'oc_150_sec']]\n",
    "           .corr(method=lambda x, y: pearsonr(x, y)[1]) - np.eye(len(df[['2min_perg', 'oc_330_sec', 'oc_150_sec']].columns))) \n",
    "pvalues"
   ]
  },
  {
   "cell_type": "markdown",
   "id": "314bdb1d",
   "metadata": {},
   "source": [
    "As expected OC correlations are highest and there is indeed a correlation between the perg distance and OC, in that higher perg scores tend to have lower (better) OC times."
   ]
  },
  {
   "cell_type": "markdown",
   "id": "48149df9",
   "metadata": {},
   "source": [
    "# To make team canada\n",
    "\n",
    "Paddlers will realistically need to be Top 12 on their side if they want to make team Canada. Given the current data and the 12th best person, paddlers will have to reach these milestones or get better scores than below if they want to make team Canada.\\\n",
    "\n",
    "Below are the times/distance paddlers should beat to have a chance of making Team Canada"
   ]
  },
  {
   "cell_type": "markdown",
   "id": "8345c7ea",
   "metadata": {},
   "source": [
    "###### For left side"
   ]
  },
  {
   "cell_type": "code",
   "execution_count": 6,
   "id": "ff6a0820",
   "metadata": {},
   "outputs": [
    {
     "data": {
      "text/plain": [
       "oc_330              0 days 00:01:56\n",
       "oc_150       0 days 00:00:47.100000\n",
       "2min_perg                     485.0\n",
       "Name: 11, dtype: object"
      ]
     },
     "metadata": {},
     "output_type": "display_data"
    }
   ],
   "source": [
    "display(df.loc[df['paddle_side'] == 'left'].iloc[11][['oc_330', 'oc_150', '2min_perg']])"
   ]
  },
  {
   "cell_type": "markdown",
   "id": "c615bd6f",
   "metadata": {},
   "source": [
    "##### For right side"
   ]
  },
  {
   "cell_type": "code",
   "execution_count": 7,
   "id": "ac251aee",
   "metadata": {},
   "outputs": [
    {
     "data": {
      "text/plain": [
       "oc_330       0 days 00:01:59.400000\n",
       "oc_150       0 days 00:00:48.100000\n",
       "2min_perg                     416.1\n",
       "Name: 42, dtype: object"
      ]
     },
     "metadata": {},
     "output_type": "display_data"
    }
   ],
   "source": [
    "display(df.loc[df['paddle_side'] == 'right'].iloc[11][['oc_330', 'oc_150', '2min_perg']])"
   ]
  }
 ],
 "metadata": {
  "kernelspec": {
   "display_name": "Python 3 (ipykernel)",
   "language": "python",
   "name": "python3"
  },
  "language_info": {
   "codemirror_mode": {
    "name": "ipython",
    "version": 3
   },
   "file_extension": ".py",
   "mimetype": "text/x-python",
   "name": "python",
   "nbconvert_exporter": "python",
   "pygments_lexer": "ipython3",
   "version": "3.8.3"
  }
 },
 "nbformat": 4,
 "nbformat_minor": 5
}
